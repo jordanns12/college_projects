{
 "cells": [
  {
   "cell_type": "code",
   "execution_count": 1,
   "id": "95a6dd5d",
   "metadata": {},
   "outputs": [],
   "source": [
    "# project: p10\n",
    "# submitter: jstump\n",
    "# partner: njannusch\n",
    "# hours: 5"
   ]
  },
  {
   "cell_type": "code",
   "execution_count": 2,
   "id": "19d1f24e",
   "metadata": {},
   "outputs": [],
   "source": [
    "import os\n",
    "import csv\n",
    "import json\n",
    "from collections import namedtuple"
   ]
  },
  {
   "cell_type": "code",
   "execution_count": 3,
   "id": "ea474776",
   "metadata": {},
   "outputs": [],
   "source": [
    "def list_files_in(pathname):\n",
    "    data_files = os.listdir(pathname)\n",
    "    data_files = sorted(data_files)\n",
    "    data_files_filtered = [data_files[i] for i in range(len(data_files)) if data_files[i][0] != '.']\n",
    "    return data_files_filtered\n",
    "\n",
    "\n",
    "\n",
    "def list_paths_in(pathname):\n",
    "    files_list = list_files_in(pathname)\n",
    "    paths_list = [os.path.join(pathname, files_list[i]) for i in range(len(files_list))]\n",
    "    return paths_list\n",
    "\n"
   ]
  },
  {
   "cell_type": "code",
   "execution_count": 4,
   "id": "f633d70e",
   "metadata": {},
   "outputs": [
    {
     "data": {
      "text/plain": [
       "['channel_ids1.json',\n",
       " 'channel_ids2.json',\n",
       " 'channel_ids3.json',\n",
       " 'channel_ids4.json',\n",
       " 'channel_ids5.json',\n",
       " 'comment_data1.csv',\n",
       " 'comment_data2.csv',\n",
       " 'comment_data3.csv',\n",
       " 'comment_data4.csv',\n",
       " 'comment_data5.csv',\n",
       " 'video_data.csv',\n",
       " 'video_ids.json']"
      ]
     },
     "execution_count": 4,
     "metadata": {},
     "output_type": "execute_result"
    }
   ],
   "source": [
    "#Q1: What are the names of the files present in the data directory?\n",
    "\n",
    "list_files_in('data')"
   ]
  },
  {
   "cell_type": "code",
   "execution_count": 5,
   "id": "4ec9f7d4",
   "metadata": {
    "scrolled": true
   },
   "outputs": [
    {
     "data": {
      "text/plain": [
       "['data/channel_ids1.json',\n",
       " 'data/channel_ids2.json',\n",
       " 'data/channel_ids3.json',\n",
       " 'data/channel_ids4.json',\n",
       " 'data/channel_ids5.json',\n",
       " 'data/comment_data1.csv',\n",
       " 'data/comment_data2.csv',\n",
       " 'data/comment_data3.csv',\n",
       " 'data/comment_data4.csv',\n",
       " 'data/comment_data5.csv',\n",
       " 'data/video_data.csv',\n",
       " 'data/video_ids.json']"
      ]
     },
     "execution_count": 5,
     "metadata": {},
     "output_type": "execute_result"
    }
   ],
   "source": [
    "#Q2: What are the paths of all the files in the data directory?\n",
    "\n",
    "paths_data = list_paths_in('data')\n",
    "paths_data"
   ]
  },
  {
   "cell_type": "code",
   "execution_count": 6,
   "id": "a39a6d38",
   "metadata": {},
   "outputs": [
    {
     "data": {
      "text/plain": [
       "['data/comment_data1.csv',\n",
       " 'data/comment_data2.csv',\n",
       " 'data/comment_data3.csv',\n",
       " 'data/comment_data4.csv',\n",
       " 'data/comment_data5.csv']"
      ]
     },
     "execution_count": 6,
     "metadata": {},
     "output_type": "execute_result"
    }
   ],
   "source": [
    "#Q3: What are the paths of all the files whose name contains comment_data in our data directory?\n",
    "comment_paths = [item for item in paths_data if 'comment_data' in item]\n",
    "comment_paths\n"
   ]
  },
  {
   "cell_type": "code",
   "execution_count": 7,
   "id": "9a5b37cd",
   "metadata": {},
   "outputs": [
    {
     "data": {
      "text/plain": [
       "['data/channel_ids1.json',\n",
       " 'data/channel_ids2.json',\n",
       " 'data/channel_ids3.json',\n",
       " 'data/channel_ids4.json',\n",
       " 'data/channel_ids5.json']"
      ]
     },
     "execution_count": 7,
     "metadata": {},
     "output_type": "execute_result"
    }
   ],
   "source": [
    "#Q4: What are the paths of all the files whose name contains channel_ids in our data directory?\n",
    "\n",
    "channel_paths = [item for item in paths_data if 'channel_ids' in item]\n",
    "channel_paths"
   ]
  },
  {
   "cell_type": "code",
   "execution_count": 8,
   "id": "6883a045",
   "metadata": {},
   "outputs": [],
   "source": [
    "def read_json(path):\n",
    "    with open(path, encoding=\"utf-8\") as f:\n",
    "        return json.load(f) # dict, list, etc\n",
    "\n",
    "\n",
    "def get_mapping(pathname):\n",
    "    try:\n",
    "        json_data = read_json(pathname)\n",
    "        return json_data\n",
    "    except(json.JSONDecodeError):\n",
    "        return {}"
   ]
  },
  {
   "cell_type": "code",
   "execution_count": 9,
   "id": "ef077d7e",
   "metadata": {},
   "outputs": [
    {
     "data": {
      "text/plain": [
       "'Al Jazeera English'"
      ]
     },
     "execution_count": 9,
     "metadata": {},
     "output_type": "execute_result"
    }
   ],
   "source": [
    "#Q5: What is the name of the channel with the ID UCNye-wNBqNL5ZzHSJj3l8Bg?\n",
    "\n",
    "json_data = get_mapping(os.path.join('data', 'channel_ids1.json'))\n",
    "json_data['UCNye-wNBqNL5ZzHSJj3l8Bg']"
   ]
  },
  {
   "cell_type": "code",
   "execution_count": 10,
   "id": "11b1e36d",
   "metadata": {},
   "outputs": [
    {
     "data": {
      "text/plain": [
       "372"
      ]
     },
     "execution_count": 10,
     "metadata": {},
     "output_type": "execute_result"
    }
   ],
   "source": [
    "#Q6: How many channels do we have in the entire dataset?\n",
    "channel_dict = {}\n",
    "for path in channel_paths:\n",
    "    for key in get_mapping(path):\n",
    "        channel_dict[key] = get_mapping(path)[key]\n",
    "len(channel_dict)\n",
    "\n",
    "    \n"
   ]
  },
  {
   "cell_type": "code",
   "execution_count": 11,
   "id": "506eacab",
   "metadata": {},
   "outputs": [],
   "source": [
    "Comment = namedtuple('Comment', ['video_id','comment_length','author_id','likes','published_at'])\n",
    "   \n",
    "def process_csv(filename):\n",
    "    exampleFile = open(filename, encoding=\"utf-8\")  \n",
    "    exampleReader = csv.reader(exampleFile)\n",
    "    exampleData = list(exampleReader)        \n",
    "    exampleFile.close()  \n",
    "    return exampleData\n",
    "\n",
    "def get_comment_data(comment_file):\n",
    "    csv_data = process_csv(comment_file)\n",
    "    header = csv_data[0]\n",
    "   \n",
    "    # TODO: if required, use a print function call to display header or alternatively, take a look at the comments csv file\n",
    "    comment_rows = csv_data[1:]\n",
    "    comment_id_idx = header.index(\"comment_id\")\n",
    "    video_id_idx = header.index(\"video_id\")\n",
    "    comment_length_idx = header.index('comment_length')\n",
    "    author_id_idx = header.index('author_id')\n",
    "    likes_idx = header.index('likes')\n",
    "    published_at_idx = header.index('published_at')\n",
    "   \n",
    "    comment_dict = {}\n",
    "   \n",
    "    for comment in comment_rows:\n",
    "        try:\n",
    "            comment_id = comment[comment_id_idx]\n",
    "            video_id = comment[video_id_idx]\n",
    "            author_id = comment[author_id_idx]\n",
    "            published_at = comment[published_at_idx]\n",
    "            likes = comment[likes_idx]\n",
    "            comment_length = comment[comment_length_idx]\n",
    "            if comment_id == '' or video_id == '' or author_id == '' or published_at == '' or likes == '' or comment_length == '':\n",
    "                continue\n",
    "            likes = int(comment[likes_idx])\n",
    "            comment_length = int(comment[comment_length_idx])\n",
    "        except(IndexError,ValueError):\n",
    "            continue\n",
    "           \n",
    "        comment_id = comment[comment_id_idx]\n",
    "        video_id = comment[video_id_idx]\n",
    "        author_id = comment[author_id_idx]\n",
    "        published_at = comment[published_at_idx]\n",
    "     \n",
    "        current_comment = Comment(video_id,comment_length,author_id,likes,published_at)\n",
    "       \n",
    "        comment_dict[comment_id] = current_comment\n",
    "    return comment_dict"
   ]
  },
  {
   "cell_type": "code",
   "execution_count": 12,
   "id": "688d85bd",
   "metadata": {},
   "outputs": [
    {
     "data": {
      "text/plain": [
       "Comment(video_id='udNXMAflbU8', comment_length=175, author_id='UCHkk7x38KWgqjQOHqsQwf0Q', likes=47, published_at='2021-10-10 17:48:38')"
      ]
     },
     "execution_count": 12,
     "metadata": {},
     "output_type": "execute_result"
    }
   ],
   "source": [
    "#Q7: What is the Comment object with comment ID UgygOezB4Mvd5o6FgAt4AaABAg?\n",
    "get_comment_data(os.path.join('data', 'comment_data1.csv'))['UgygOezB4Mvd5o6FgAt4AaABAg']"
   ]
  },
  {
   "cell_type": "code",
   "execution_count": 13,
   "id": "7813aeec",
   "metadata": {},
   "outputs": [],
   "source": [
    "comments = {}\n",
    "for file in comment_paths:\n",
    "    comments.update(get_comment_data(file))"
   ]
  },
  {
   "cell_type": "code",
   "execution_count": 14,
   "id": "5fde4645",
   "metadata": {},
   "outputs": [
    {
     "data": {
      "text/plain": [
       "67"
      ]
     },
     "execution_count": 14,
     "metadata": {},
     "output_type": "execute_result"
    }
   ],
   "source": [
    "#Q8: What is the length of the comment with ID UgztIaGfqFoiGvbOdfp4AaABAg?\n",
    "comments['UgztIaGfqFoiGvbOdfp4AaABAg'].comment_length"
   ]
  },
  {
   "cell_type": "code",
   "execution_count": 15,
   "id": "646a4a99",
   "metadata": {},
   "outputs": [
    {
     "data": {
      "text/plain": [
       "86.86953042956443"
      ]
     },
     "execution_count": 15,
     "metadata": {},
     "output_type": "execute_result"
    }
   ],
   "source": [
    "#Q9: What percentage of comments are at most 140 characters long?\n",
    "count = 0\n",
    "total = 0\n",
    "for key in comments:\n",
    "    total +=1\n",
    "    if comments[key].comment_length <= 140:\n",
    "        count +=1\n",
    "count / total * 100"
   ]
  },
  {
   "cell_type": "code",
   "execution_count": 16,
   "id": "96ed2e78",
   "metadata": {},
   "outputs": [
    {
     "data": {
      "text/plain": [
       "'UCIPPMRA040LQr5QPyJEbmXA'"
      ]
     },
     "execution_count": 16,
     "metadata": {},
     "output_type": "execute_result"
    }
   ],
   "source": [
    "#Q10: What is the author ID of the comment that has the highest number of likes?\n",
    "highest_number = 0\n",
    "highest_ID = None\n",
    "for key in comments:\n",
    "    if comments[key].likes > highest_number:\n",
    "        highest_number = comments[key].likes\n",
    "        highest_ID = comments[key].author_id\n",
    "highest_ID"
   ]
  },
  {
   "cell_type": "code",
   "execution_count": 17,
   "id": "c5df90de",
   "metadata": {},
   "outputs": [
    {
     "data": {
      "text/plain": [
       "19"
      ]
     },
     "execution_count": 17,
     "metadata": {},
     "output_type": "execute_result"
    }
   ],
   "source": [
    "#Q11: What is the most popular hour for publishing comments?\n",
    "comment_hr_dict = {}\n",
    "for comment_id in comments:\n",
    "    current_hour = comments[comment_id].published_at[-8:-6]\n",
    "    if current_hour not in comment_hr_dict:\n",
    "        comment_hr_dict[current_hour] = 0\n",
    "    comment_hr_dict[current_hour] += 1\n",
    "   \n",
    "most_hr = None\n",
    "most_count = 0\n",
    "for hour in comment_hr_dict:\n",
    "    if comment_hr_dict[hour] > most_count:\n",
    "        most_count = comment_hr_dict[hour]\n",
    "        most_hour = hour\n",
    "int(most_hour)\n"
   ]
  },
  {
   "cell_type": "code",
   "execution_count": 18,
   "id": "0fd95b4f",
   "metadata": {},
   "outputs": [
    {
     "data": {
      "text/plain": [
       "606"
      ]
     },
     "execution_count": 18,
     "metadata": {},
     "output_type": "execute_result"
    }
   ],
   "source": [
    "#Q12: How many comments does the video with ID A8rrr_w8rfk have?\n",
    "comment_buckets = {}\n",
    "for comment_id in comments:\n",
    "    if comments[comment_id].video_id not in comment_buckets:\n",
    "        comment_buckets[comments[comment_id].video_id] = []\n",
    "    comment_buckets[comments[comment_id].video_id].append(comment_id)\n",
    "len(comment_buckets['A8rrr_w8rfk'])"
   ]
  },
  {
   "cell_type": "code",
   "execution_count": 19,
   "id": "da658e62",
   "metadata": {},
   "outputs": [],
   "source": [
    "def get_videos(data_file, video_mapping_file):\n",
    "    \"\"\"\n",
    "    Given data_file (csv file) and video_mapping_file (json) file, generates a video\n",
    "    dictionary, mapping video ID to a dictionary containing title, and other details of the video.\n",
    "    Handles missing entry in video_ids.json by using try / except blocks to handle KeyError.\n",
    "    \"\"\"\n",
    "    data = process_csv(data_file)\n",
    "    header = data[0]\n",
    "    all_videos = data[1:]\n",
    "    video_mapping = get_mapping(video_mapping_file)\n",
    "    videos_dict = {}\n",
    "    for i in range(len(all_videos)): # You may find it helpful to do all_videos[:5] to only look at the first 5 videos.\n",
    "        video_id = all_videos[i][header.index('video_id')]\n",
    "        published = all_videos[i][header.index('published_at')]\n",
    "        duration = all_videos[i][header.index('duration')]\n",
    "        category = all_videos[i][header.index('category')]\n",
    "        views = all_videos[i][header.index('views')]\n",
    "        tags = all_videos[i][header.index('tags')].split('|')\n",
    "        likes = all_videos[i][header.index('likes')]\n",
    "        dislikes = all_videos[i][header.index('dislikes')]\n",
    "        channel_id = all_videos[i][header.index('channel_id')]\n",
    "        if likes == '':\n",
    "            likes = None\n",
    "        else:\n",
    "            likes = int(likes)\n",
    "        if dislikes == '':\n",
    "            dislikes = None\n",
    "        else:\n",
    "             dislikes = int(dislikes)   \n",
    "        if dislikes == None and likes == None:\n",
    "            ratings_enabled = False\n",
    "        else:\n",
    "            ratings_enabled = True\n",
    "        \n",
    "        inner_dict = {}\n",
    "        try:\n",
    "            inner_dict['title'] = video_mapping[video_id]\n",
    "            inner_dict['published_at'] = published\n",
    "            inner_dict['duration'] = duration\n",
    "            inner_dict['category'] = category\n",
    "            inner_dict['views'] = int(views)  \n",
    "            inner_dict['tags'] = tags\n",
    "            inner_dict['likes'] = likes\n",
    "            inner_dict['dislikes'] = dislikes\n",
    "            inner_dict['ratings_enabled'] = ratings_enabled\n",
    "            inner_dict['channel_name'] = channel_dict[channel_id]\n",
    "            inner_dict['comments'] = comment_buckets[video_id]\n",
    "        except(KeyError):\n",
    "            continue\n",
    "        try:\n",
    "            videos_dict[video_id] = inner_dict\n",
    "        except(KeyError):\n",
    "            continue\n",
    "             \n",
    "    \n",
    "        # TODO: for start, use print function call to display each video row\n",
    "        # TODO: Construct the dictionary.\n",
    "    return videos_dict\n",
    "\n",
    "videos = get_videos(os.path.join('data','video_data.csv'), os.path.join('data','video_ids.json'))\n",
    "\n"
   ]
  },
  {
   "cell_type": "code",
   "execution_count": 20,
   "id": "63a569c7",
   "metadata": {},
   "outputs": [],
   "source": [
    "sample = ['UgzgwN2JXxjTN4mR5954AaABAg.9TPxukUd20g9TQLnJi3RFU', 'UgzvogxMg82Kj0aW84x4AaABAg']\n",
    "for s in sample:\n",
    "    assert s in videos['fkMW60W180E']['comments']"
   ]
  },
  {
   "cell_type": "code",
   "execution_count": 21,
   "id": "281a5b86",
   "metadata": {},
   "outputs": [
    {
     "data": {
      "text/plain": [
       "{'title': 'SWAWS | Totally Accurate Battlegrounds',\n",
       " 'published_at': '2021-10-12 19:01:41',\n",
       " 'duration': '00:18:46',\n",
       " 'category': 'Gaming',\n",
       " 'views': 3172185,\n",
       " 'tags': ['tot',\n",
       "  'totally accurate battlegrounds',\n",
       "  'tabg',\n",
       "  'totally accurate battle simulator',\n",
       "  'totally accurate battlegrounds gameplay',\n",
       "  'totally accurate battle grounds',\n",
       "  'tabg gameplay',\n",
       "  'tabg game',\n",
       "  'tabs',\n",
       "  'totally accurate',\n",
       "  'totally accurate battle royale',\n",
       "  'battle royale',\n",
       "  'tabg funny',\n",
       "  'fortnite',\n",
       "  'battlegrounds',\n",
       "  'tabs battle royale',\n",
       "  'new battle royale',\n",
       "  'pubg',\n",
       "  'totally accurate battlegrounds funny',\n",
       "  'swaws',\n",
       "  'swaws meme',\n",
       "  'swaws russian badger',\n",
       "  'tabg update',\n",
       "  'tabg win',\n",
       "  'tabg br',\n",
       "  'free to play pc games',\n",
       "  'free to play'],\n",
       " 'likes': 210951,\n",
       " 'dislikes': 1824,\n",
       " 'ratings_enabled': True,\n",
       " 'channel_name': 'TheRussianBadger',\n",
       " 'comments': ['UgzgwN2JXxjTN4mR5954AaABAg.9TPxukUd20g9TQLnJi3RFU',\n",
       "  'Ugw8z3sbkSQQpgINHdl4AaABAg',\n",
       "  'UgyjZAl0XlNg-gOZ0jR4AaABAg.9TPyCmI6pbl9TQAXc7oVx_',\n",
       "  'Ugy1W1ldfeXB5VavpEB4AaABAg',\n",
       "  'Ugz-5ND1_48bvR--K-h4AaABAg.9TcESnaSWQO9TwybqLquLh',\n",
       "  'Ugw8yRjg6yeaJ-KJmvN4AaABAg',\n",
       "  'Ugxvp2D5qsf_Kz3qLfJ4AaABAg',\n",
       "  'UgyjZAl0XlNg-gOZ0jR4AaABAg.9TPyCmI6pbl9TS3pUjvdvY',\n",
       "  'Ugx7Z_ZM2zeYpgTo2V54AaABAg.9TPtkn_qSTN9TQ53TeDjlr',\n",
       "  'UgyJSgJPxm3-cOi3bSh4AaABAg',\n",
       "  'UgxpmEEjcu4ATnKp_dt4AaABAg.9TPdawdmb1E9TS4AKca9bH',\n",
       "  'Ugwq8srR6ykQ2_6mgRB4AaABAg',\n",
       "  'UgyjZAl0XlNg-gOZ0jR4AaABAg',\n",
       "  'Ugyvf9XkcWXRZx7icN14AaABAg',\n",
       "  'UgyjZAl0XlNg-gOZ0jR4AaABAg.9TPyCmI6pbl9TQFiNbKjs4',\n",
       "  'UgxHObmG9Ifype4Dtjh4AaABAg',\n",
       "  'Ugy2t0J2rMrLqVCcAxV4AaABAg',\n",
       "  'UgzZWUkzBIwfWd81Azd4AaABAg.9TSUVio8FDs9TX0cFy0cPn',\n",
       "  'Ugxp63hxPOpvnQXfmfN4AaABAg',\n",
       "  'Ugywck2nfxGf1P-jGrV4AaABAg.9TTUaC5BZm99TUWmUYdTW3',\n",
       "  'UgyF54uSxOw317OaxW94AaABAg',\n",
       "  'Ugz-hiG5y5Ifo2hXQRd4AaABAg.9TPd_-XUJf_9TS3y-fezid',\n",
       "  'UgwQZBclHDt-blfzYwh4AaABAg',\n",
       "  'UgzZWUkzBIwfWd81Azd4AaABAg.9TSUVio8FDs9TUQsdd2w1L',\n",
       "  'Ugz-hiG5y5Ifo2hXQRd4AaABAg.9TPd_-XUJf_9TQEttSsTwV',\n",
       "  'Ugz-hiG5y5Ifo2hXQRd4AaABAg.9TPd_-XUJf_9TabMdgwb7s',\n",
       "  'Ugz5310iuzanBWihavR4AaABAg',\n",
       "  'UgzvogxMg82Kj0aW84x4AaABAg',\n",
       "  'UgzZWUkzBIwfWd81Azd4AaABAg.9TSUVio8FDs9TUyS8-BWoG',\n",
       "  'UgwDeZIB2YoH3gT3LNt4AaABAg',\n",
       "  'UgzakPEp05WspBho1RJ4AaABAg.9TlhjvACtRu9TyzsrPsOxh',\n",
       "  'UgyZtlx_fwNidAjBVdR4AaABAg',\n",
       "  'UgwNv3MdCPrD0arufSZ4AaABAg',\n",
       "  'UgyXBz5CH6Q9rmwcRhp4AaABAg.9TQ2wkUS5H99TxG3z1lyQL',\n",
       "  'UgxUGNNhbZQnp9D_Yep4AaABAg',\n",
       "  'Ugxw406F2KiRt6h0Eg54AaABAg.9TQRqjzQH199TQiRp2YQOJ',\n",
       "  'Ugyi22jKbQYthMkJnaN4AaABAg',\n",
       "  'Ugz-5ND1_48bvR--K-h4AaABAg',\n",
       "  'Ugz5jelTNmzEROhDeUB4AaABAg',\n",
       "  'UgyIBw19on3SuDypRTx4AaABAg',\n",
       "  'UgxvNfLi21bGDhlsuGN4AaABAg.9TQRqu-Qzx79TWgpd0gXUF',\n",
       "  'UgzaSBdz7kdutGQnJJJ4AaABAg',\n",
       "  'UgyF54uSxOw317OaxW94AaABAg.9TQ42Lqa9o09Tc8fhL52xl']}"
      ]
     },
     "execution_count": 21,
     "metadata": {},
     "output_type": "execute_result"
    }
   ],
   "source": [
    "#Q13: What is the video with ID fkMW60W180E?\n",
    "videos['fkMW60W180E']"
   ]
  },
  {
   "cell_type": "code",
   "execution_count": 22,
   "id": "be83180d",
   "metadata": {},
   "outputs": [
    {
     "data": {
      "text/plain": [
       "'A Mukbanger Ate 1 Gallon Pickles. This Is What Happened To Her Brain.'"
      ]
     },
     "execution_count": 22,
     "metadata": {},
     "output_type": "execute_result"
    }
   ],
   "source": [
    "#Q14: What is the title of the video with ID gF69voHU_ys?\n",
    "videos['gF69voHU_ys']['title']"
   ]
  },
  {
   "cell_type": "code",
   "execution_count": 23,
   "id": "c44b5fe1",
   "metadata": {},
   "outputs": [
    {
     "data": {
      "text/plain": [
       "'[In the SOOP BTS ver. Season 2] Official Teaser 2'"
      ]
     },
     "execution_count": 23,
     "metadata": {},
     "output_type": "execute_result"
    }
   ],
   "source": [
    "#Q15: Among the videos with more than 1 million views, what is the title of the video with the highest likes to views ratio?\n",
    "max_ratio = 0\n",
    "max_name = None\n",
    "for key in videos:\n",
    "    views_videos = videos[key]['views']\n",
    "    likes_videos = videos[key]['likes']\n",
    "    if views_videos > 1000000:\n",
    "        if likes_videos != None:\n",
    "            ratio = likes_videos / views_videos\n",
    "            if ratio > max_ratio:\n",
    "                max_ratio = ratio\n",
    "                max_name = videos[key]['title']\n",
    "max_name\n",
    "        \n",
    "        "
   ]
  },
  {
   "cell_type": "code",
   "execution_count": 24,
   "id": "c851f93c",
   "metadata": {},
   "outputs": [
    {
     "data": {
      "text/plain": [
       "'UCRvcDpyxCVmlLI8Q2TjRpmg'"
      ]
     },
     "execution_count": 24,
     "metadata": {},
     "output_type": "execute_result"
    }
   ],
   "source": [
    "#Q16: What is the author ID of the most liked comment under the video titled 'Giving Away My Beard For Charity!'\n",
    "\n",
    "most_likes = 0\n",
    "most_liked_author = None\n",
    "for video_id in videos:\n",
    "    if videos[video_id]['title'] == 'Giving Away My Beard For Charity!':\n",
    "        for comment_id in videos[video_id]['comments']:\n",
    "            if comments[comment_id].likes > most_likes:\n",
    "                most_likes = comments[comment_id].likes\n",
    "                most_liked_author = comments[comment_id].author_id\n",
    "most_liked_author"
   ]
  },
  {
   "cell_type": "code",
   "execution_count": 25,
   "id": "40fe21ca",
   "metadata": {},
   "outputs": [
    {
     "data": {
      "text/plain": [
       "str"
      ]
     },
     "execution_count": 25,
     "metadata": {},
     "output_type": "execute_result"
    }
   ],
   "source": [
    "type(videos['gF69voHU_ys']['channel_name'])"
   ]
  },
  {
   "cell_type": "code",
   "execution_count": 26,
   "id": "88144c87",
   "metadata": {},
   "outputs": [],
   "source": [
    "def bucketize(attribute, videos = videos):\n",
    "    #specific_movie_list = find_specific_movies(movie_list, category)\n",
    "    videos_dict = {}\n",
    "    if attribute == 'title' or attribute == 'published_at' or attribute == 'duration' or attribute == 'category' or attribute == 'views'\\\n",
    "    or attribute == 'tags' or attribute == 'likes' or attribute == 'dislikes' or attribute == 'ratings_enabled' or attribute == 'channel_name'\\\n",
    "    or attribute == 'comments':\n",
    "        for key in videos:\n",
    "            item = videos[key][attribute]\n",
    "            if type(item) == list:\n",
    "                for i in range(len(item)):\n",
    "                    if item[i] not in videos_dict:\n",
    "                        videos_dict[item[i]] = []\n",
    "                    if item[i] in videos_dict:\n",
    "                        videos_dict[item[i]].append(key)    \n",
    "            elif type(item) != list:\n",
    "                if item not in videos_dict:\n",
    "                    videos_dict[item] = []\n",
    "                if item in videos_dict:\n",
    "                    videos_dict[item].append(key)\n",
    "        return videos_dict"
   ]
  },
  {
   "cell_type": "code",
   "execution_count": 27,
   "id": "a63959b6",
   "metadata": {},
   "outputs": [],
   "source": [
    "category_dict = bucketize('category')\n",
    "assert category_dict['Pets & Animals'] == ['Hz_DslzN2IA', 'AwvyrO_yM4c']"
   ]
  },
  {
   "cell_type": "code",
   "execution_count": 28,
   "id": "207bf68e",
   "metadata": {},
   "outputs": [
    {
     "data": {
      "text/plain": [
       "['VFX Artists React to SHANG-CHi Bad & Great CGi',\n",
       " 'VFX Artists React to Bad & Great CGi 54 (ft. SETH ROGEN)']"
      ]
     },
     "execution_count": 28,
     "metadata": {},
     "output_type": "execute_result"
    }
   ],
   "source": [
    "#Q17: Which video titles were produced by the \"Corridor Crew\" channel?\n",
    "channel_buckets = bucketize('channel_name')\n",
    "video_id_crew = channel_buckets[\"Corridor Crew\"]\n",
    "titles_list = []\n",
    "for item in video_id_crew:\n",
    "    titles_list.append(videos[item]['title'])\n",
    "titles_list\n",
    "\n"
   ]
  },
  {
   "cell_type": "code",
   "execution_count": 29,
   "id": "0ad4f85c",
   "metadata": {},
   "outputs": [
    {
     "data": {
      "text/plain": [
       "['NFL', 'Minecraft', 'Saturday Night Live', 'SSSniperWolf', 'PBC ON FOX']"
      ]
     },
     "execution_count": 29,
     "metadata": {},
     "output_type": "execute_result"
    }
   ],
   "source": [
    "#Q18: What are the top 5 channels that have the most total comments on their videos?\n",
    "total_comments = {}\n",
    "for key in channel_buckets:\n",
    "    total = 0\n",
    "    for i in range(len(channel_buckets[key])):\n",
    "        total += len(videos[channel_buckets[key][i]]['comments'])\n",
    "    total_comments[key] = total\n",
    "sorted_dict = dict(sorted(total_comments.items(), key = lambda item: item[1], reverse = True))\n",
    "list(sorted_dict)[:5]\n",
    "\n",
    "  \n",
    "  \n",
    "\n",
    "        "
   ]
  },
  {
   "cell_type": "code",
   "execution_count": 30,
   "id": "098e7713",
   "metadata": {},
   "outputs": [
    {
     "data": {
      "text/plain": [
       "['I Designed Custom Minecraft Bosses...',\n",
       " 'can 1 pixel of water save you?',\n",
       " \"Minecraft, But We're All Mutant Superhumans...\",\n",
       " 'Which Mob Am I Voting For in Minecraft Live 2021?!',\n",
       " 'Building AUTOMATIC FARMS in Minecraft Hardcore (#52)',\n",
       " 'You Laugh You Lose Is Even Funnier In Real Life...',\n",
       " 'Realistic Water in Minecraft...',\n",
       " 'I Survived 69 Hours Using Only Minecraft Tools',\n",
       " '46 Minecraft Blocks Mojang Had To Remove',\n",
       " 'Playing SQUID GAME In Minecraft!',\n",
       " 'Minecraft Mobs if they were Superheroes',\n",
       " 'Minecraft Death Shuffle...',\n",
       " 'We Fought a Viking Horde...',\n",
       " 'Playing SQUID GAME in Minecraft!',\n",
       " 'Last Life: Episode 4 - UH OH!',\n",
       " 'Minecraft but you can Eat Mobs',\n",
       " 'So I made Dance Moves control Minecraft...',\n",
       " 'Jumping SQUID GAME CARS Across ENTIRE MAP In GTA 5! (Mods)',\n",
       " 'Minecraft, But You Can Upgrade TNT...',\n",
       " 'What is the Safest Base Possible in Minecraft?',\n",
       " 'I Survived 100 Days as a PANDA in HARDCORE Minecraft!',\n",
       " 'Minecraft Manhunt but I have CUSTOM COMMANDS',\n",
       " \"Minecraft, But You Can't Leave The End...\",\n",
       " 'I Cheated with a \"FAKE\" Professional Builder in a Building Competition...',\n",
       " 'Becoming SQUID GAME Host in GTA 5! (GTA 5 Mods)',\n",
       " 'She Wants Us DEAD! 💀 Dark Deception Chapter 4 (FGTeeV Telekinesis Gameplay)',\n",
       " 'Philza And Wilbur TEACH Tommy To FLY And Its SCUFFED LORE! ORIGINS SMP',\n",
       " 'Realistic Golem Transforming',\n",
       " 'Hermitcraft 8 Episode 14:  BETRAYING BOATEM',\n",
       " 'Minecraft but all Mobs are Dragons',\n",
       " '\"Eternal\" - A Minecraft Music Video ♪',\n",
       " 'I Won SQUID GAME In GTA 5! (Mods)',\n",
       " \"Minecraft, But There's Custom End City Items...\",\n",
       " 'I tested them in Minecraft early and so should you...',\n",
       " 'I Survived 100 Days as an ENDER DRAGON in Minecraft',\n",
       " 'I Survived 1,900 Days in HARDCORE Minecraft...',\n",
       " 'Minecraft, But I Add A Marshmallow Every Minute... - Extra Scenes',\n",
       " 'Minecraft, But I Add A Marshmallow Every Minute...',\n",
       " 'Minecraft Mobs if they were Parents',\n",
       " '100 Days, But There Are Custom Dimensions...',\n",
       " 'SURVIVING SQUID GAME in GTA 5',\n",
       " 'Minecraft - Last Life #3: Frightening Exploit Tactics',\n",
       " 'MURDER DRONES [OFFICIAL TRAILER]',\n",
       " 'I Found the RICHEST Server in Minecraft! *millionaire*',\n",
       " 'I Built an AUTOMATIC Mob Loot Farm in Minecraft Hardcore! (#22)',\n",
       " 'I made a custom mod in minecraft with your ideas',\n",
       " \"2b2t's Obsidian War is Getting Ridiculous\",\n",
       " 'I Survived 100 Days as a FOX in HARDCORE Minecraft!',\n",
       " 'I Trapped 10 YouTubers on One Block',\n",
       " 'LAST TO LEAVE THE MYSTERY MACHINE WINS $10,000',\n",
       " 'I Was In The Funniest Minecraft Competition With Dream',\n",
       " 'Minecraft But I Upgrade EVERYTHING - The ULTIMATE Survival World! | Part 4',\n",
       " 'Minecraft Mobs when you log off...',\n",
       " 'What Mob Should Be Added To Minecraft?']"
      ]
     },
     "execution_count": 30,
     "metadata": {},
     "output_type": "execute_result"
    }
   ],
   "source": [
    "#Q19: List all the unique video titles which have Minecraft tags.\n",
    "minecraft_videos = []\n",
    "tags_buckets = bucketize('tags', videos)\n",
    "for tag in tags_buckets:\n",
    "    if 'minecraft' in tag.lower():\n",
    "        for i in range(len(tags_buckets[tag])):\n",
    "            minecraft_videos.append(tags_buckets[tag][i-1])\n",
    "minecraft_titles = []\n",
    "for video_id in minecraft_videos:\n",
    "    minecraft_titles.append(videos[video_id]['title'])\n",
    "list(set(minecraft_titles))\n",
    "    \n"
   ]
  },
  {
   "cell_type": "code",
   "execution_count": 31,
   "id": "7d2894cd",
   "metadata": {},
   "outputs": [
    {
     "data": {
      "text/plain": [
       "['When someone walks in while you using the bathroom😭',\n",
       " 'Smart Appliances, Gadgets For Every Home 🤩 Versatile Utensils, Kitchen, Makeup, Beauty #Shorts',\n",
       " 'Italians reacting to ketchup on pasta 😱🇮🇹 #shorts',\n",
       " 'My hidden talent #shorts',\n",
       " 'Knot']"
      ]
     },
     "execution_count": 31,
     "metadata": {},
     "output_type": "execute_result"
    }
   ],
   "source": [
    "#Q20: List the titles of the 5 shortest videos.\n",
    "duration_dict = {}\n",
    "for key in videos:\n",
    "    duration = videos[key]['duration']\n",
    "    duration_dict[videos[key]['title']] = duration\n",
    "sorted_dict = dict(sorted(duration_dict.items(), key = lambda d:d[1]))\n",
    "list(sorted_dict)[:5]\n",
    "    \n",
    "    \n",
    "    \n",
    "    \n",
    "    "
   ]
  },
  {
   "cell_type": "code",
   "execution_count": null,
   "id": "7db11c18",
   "metadata": {},
   "outputs": [],
   "source": []
  },
  {
   "cell_type": "code",
   "execution_count": null,
   "id": "c8817232",
   "metadata": {},
   "outputs": [],
   "source": []
  },
  {
   "cell_type": "code",
   "execution_count": null,
   "id": "c6daae65",
   "metadata": {},
   "outputs": [],
   "source": []
  },
  {
   "cell_type": "code",
   "execution_count": null,
   "id": "c66c1d01",
   "metadata": {},
   "outputs": [],
   "source": []
  },
  {
   "cell_type": "code",
   "execution_count": null,
   "id": "af9c2793",
   "metadata": {},
   "outputs": [],
   "source": []
  },
  {
   "cell_type": "code",
   "execution_count": null,
   "id": "26c63684",
   "metadata": {},
   "outputs": [],
   "source": []
  },
  {
   "cell_type": "code",
   "execution_count": null,
   "id": "9b3f2886",
   "metadata": {},
   "outputs": [],
   "source": []
  },
  {
   "cell_type": "code",
   "execution_count": null,
   "id": "93c81d04",
   "metadata": {},
   "outputs": [],
   "source": []
  }
 ],
 "metadata": {
  "kernelspec": {
   "display_name": "Python 3 (ipykernel)",
   "language": "python",
   "name": "python3"
  },
  "language_info": {
   "codemirror_mode": {
    "name": "ipython",
    "version": 3
   },
   "file_extension": ".py",
   "mimetype": "text/x-python",
   "name": "python",
   "nbconvert_exporter": "python",
   "pygments_lexer": "ipython3",
   "version": "3.9.7"
  }
 },
 "nbformat": 4,
 "nbformat_minor": 5
}
