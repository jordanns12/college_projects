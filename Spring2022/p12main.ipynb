{
 "cells": [
  {
   "cell_type": "code",
   "execution_count": 2,
   "id": "af0f37d2",
   "metadata": {},
   "outputs": [],
   "source": [
    "import requests  \n",
    "import json\n",
    "import pandas as pd\n",
    "from bs4 import BeautifulSoup\n",
    "import os"
   ]
  },
  {
   "cell_type": "code",
   "execution_count": 3,
   "id": "89155476",
   "metadata": {},
   "outputs": [
    {
     "data": {
      "text/plain": [
       "'2021-2022.html already exists!'"
      ]
     },
     "execution_count": 3,
     "metadata": {},
     "output_type": "execute_result"
    }
   ],
   "source": [
    "def download(filename, url):\n",
    "    if os.path.isfile(filename) == True:\n",
    "        return (str(filename) + \" already exists!\")\n",
    "    else:\n",
    "        r = requests.get(url)\n",
    "        r.raise_for_status()\n",
    "        text = r.text\n",
    "        f = open(filename, \"w\")\n",
    "        f.write(text)\n",
    "        f.close()\n",
    "        return (str(filename) + \" created!\")\n",
    "        \n",
    "download('rankings.json','https://raw.githubusercontent.com/msyamkumar/cs220-s22-projects/main/p12/rankings.json')\n",
    "rankings = pd.DataFrame(pd.read_json('rankings.json'))\n",
    "rankings.head()\n",
    "\n",
    "\n",
    "download('2019-2020.html', 'https://raw.githubusercontent.com/msyamkumar/cs220-s22-projects/main/p12/2019-2020.html')\n",
    "download('2020-2021.html', 'https://raw.githubusercontent.com/msyamkumar/cs220-s22-projects/main/p12/2020-2021.html')\n",
    "download('2021-2022.html', 'https://raw.githubusercontent.com/msyamkumar/cs220-s22-projects/main/p12/2021-2022.html')\n"
   ]
  },
  {
   "cell_type": "code",
   "execution_count": 4,
   "id": "d4717df0",
   "metadata": {},
   "outputs": [
    {
     "data": {
      "text/plain": [
       "103"
      ]
     },
     "execution_count": 4,
     "metadata": {},
     "output_type": "execute_result"
    }
   ],
   "source": [
    "#Q1: How many countries do we have in our dataset?\n",
    "\n",
    "countries = set(rankings['Country'])\n",
    "len(countries)"
   ]
  },
  {
   "cell_type": "code",
   "execution_count": 5,
   "id": "eca5127d",
   "metadata": {},
   "outputs": [
    {
     "data": {
      "text/html": [
       "<div>\n",
       "<style scoped>\n",
       "    .dataframe tbody tr th:only-of-type {\n",
       "        vertical-align: middle;\n",
       "    }\n",
       "\n",
       "    .dataframe tbody tr th {\n",
       "        vertical-align: top;\n",
       "    }\n",
       "\n",
       "    .dataframe thead th {\n",
       "        text-align: right;\n",
       "    }\n",
       "</style>\n",
       "<table border=\"1\" class=\"dataframe\">\n",
       "  <thead>\n",
       "    <tr style=\"text-align: right;\">\n",
       "      <th></th>\n",
       "      <th>World Rank</th>\n",
       "      <th>Year</th>\n",
       "      <th>Institution</th>\n",
       "      <th>Country</th>\n",
       "      <th>National Rank</th>\n",
       "      <th>Quality of Education Rank</th>\n",
       "      <th>Alumni Employment Rank</th>\n",
       "      <th>Quality of Faculty Rank</th>\n",
       "      <th>Research Performance Rank</th>\n",
       "      <th>Score</th>\n",
       "    </tr>\n",
       "  </thead>\n",
       "  <tbody>\n",
       "    <tr>\n",
       "      <th>0</th>\n",
       "      <td>1</td>\n",
       "      <td>2019-2020</td>\n",
       "      <td>Harvard University</td>\n",
       "      <td>USA</td>\n",
       "      <td>1</td>\n",
       "      <td>2.0</td>\n",
       "      <td>1.0</td>\n",
       "      <td>1.0</td>\n",
       "      <td>1.0</td>\n",
       "      <td>100.0</td>\n",
       "    </tr>\n",
       "    <tr>\n",
       "      <th>2000</th>\n",
       "      <td>1</td>\n",
       "      <td>2020-2021</td>\n",
       "      <td>Harvard University</td>\n",
       "      <td>USA</td>\n",
       "      <td>1</td>\n",
       "      <td>3.0</td>\n",
       "      <td>1.0</td>\n",
       "      <td>1.0</td>\n",
       "      <td>1.0</td>\n",
       "      <td>100.0</td>\n",
       "    </tr>\n",
       "    <tr>\n",
       "      <th>4000</th>\n",
       "      <td>1</td>\n",
       "      <td>2021-2022</td>\n",
       "      <td>Harvard University</td>\n",
       "      <td>USA</td>\n",
       "      <td>1</td>\n",
       "      <td>1.0</td>\n",
       "      <td>1.0</td>\n",
       "      <td>1.0</td>\n",
       "      <td>1.0</td>\n",
       "      <td>100.0</td>\n",
       "    </tr>\n",
       "  </tbody>\n",
       "</table>\n",
       "</div>"
      ],
      "text/plain": [
       "      World Rank       Year         Institution Country  National Rank  \\\n",
       "0              1  2019-2020  Harvard University     USA              1   \n",
       "2000           1  2020-2021  Harvard University     USA              1   \n",
       "4000           1  2021-2022  Harvard University     USA              1   \n",
       "\n",
       "      Quality of Education Rank  Alumni Employment Rank  \\\n",
       "0                           2.0                     1.0   \n",
       "2000                        3.0                     1.0   \n",
       "4000                        1.0                     1.0   \n",
       "\n",
       "      Quality of Faculty Rank  Research Performance Rank  Score  \n",
       "0                         1.0                        1.0  100.0  \n",
       "2000                      1.0                        1.0  100.0  \n",
       "4000                      1.0                        1.0  100.0  "
      ]
     },
     "execution_count": 5,
     "metadata": {},
     "output_type": "execute_result"
    }
   ],
   "source": [
    "#Q2: Generate a pandas DataFrame containing all the statistics of the highest-ranked institution based on \"World Rank\" (Note: highest rank is 1).\n",
    "\n",
    "rankings[rankings['World Rank'] == rankings['World Rank'].min()]\n"
   ]
  },
  {
   "cell_type": "code",
   "execution_count": 6,
   "id": "5b60c925",
   "metadata": {},
   "outputs": [
    {
     "data": {
      "text/html": [
       "<div>\n",
       "<style scoped>\n",
       "    .dataframe tbody tr th:only-of-type {\n",
       "        vertical-align: middle;\n",
       "    }\n",
       "\n",
       "    .dataframe tbody tr th {\n",
       "        vertical-align: top;\n",
       "    }\n",
       "\n",
       "    .dataframe thead th {\n",
       "        text-align: right;\n",
       "    }\n",
       "</style>\n",
       "<table border=\"1\" class=\"dataframe\">\n",
       "  <thead>\n",
       "    <tr style=\"text-align: right;\">\n",
       "      <th></th>\n",
       "      <th>World Rank</th>\n",
       "      <th>Year</th>\n",
       "      <th>Institution</th>\n",
       "      <th>Country</th>\n",
       "      <th>National Rank</th>\n",
       "      <th>Quality of Education Rank</th>\n",
       "      <th>Alumni Employment Rank</th>\n",
       "      <th>Quality of Faculty Rank</th>\n",
       "      <th>Research Performance Rank</th>\n",
       "      <th>Score</th>\n",
       "    </tr>\n",
       "  </thead>\n",
       "  <tbody>\n",
       "    <tr>\n",
       "      <th>24</th>\n",
       "      <td>25</td>\n",
       "      <td>2019-2020</td>\n",
       "      <td>University of Wisconsin–Madison</td>\n",
       "      <td>USA</td>\n",
       "      <td>19</td>\n",
       "      <td>28.0</td>\n",
       "      <td>80.0</td>\n",
       "      <td>35.0</td>\n",
       "      <td>27.0</td>\n",
       "      <td>87.3</td>\n",
       "    </tr>\n",
       "    <tr>\n",
       "      <th>2025</th>\n",
       "      <td>26</td>\n",
       "      <td>2020-2021</td>\n",
       "      <td>University of Wisconsin–Madison</td>\n",
       "      <td>USA</td>\n",
       "      <td>20</td>\n",
       "      <td>34.0</td>\n",
       "      <td>93.0</td>\n",
       "      <td>34.0</td>\n",
       "      <td>31.0</td>\n",
       "      <td>87.2</td>\n",
       "    </tr>\n",
       "    <tr>\n",
       "      <th>4024</th>\n",
       "      <td>25</td>\n",
       "      <td>2021-2022</td>\n",
       "      <td>University of Wisconsin–Madison</td>\n",
       "      <td>USA</td>\n",
       "      <td>19</td>\n",
       "      <td>33.0</td>\n",
       "      <td>97.0</td>\n",
       "      <td>29.0</td>\n",
       "      <td>32.0</td>\n",
       "      <td>87.3</td>\n",
       "    </tr>\n",
       "  </tbody>\n",
       "</table>\n",
       "</div>"
      ],
      "text/plain": [
       "      World Rank       Year                      Institution Country  \\\n",
       "24            25  2019-2020  University of Wisconsin–Madison     USA   \n",
       "2025          26  2020-2021  University of Wisconsin–Madison     USA   \n",
       "4024          25  2021-2022  University of Wisconsin–Madison     USA   \n",
       "\n",
       "      National Rank  Quality of Education Rank  Alumni Employment Rank  \\\n",
       "24               19                       28.0                    80.0   \n",
       "2025             20                       34.0                    93.0   \n",
       "4024             19                       33.0                    97.0   \n",
       "\n",
       "      Quality of Faculty Rank  Research Performance Rank  Score  \n",
       "24                       35.0                       27.0   87.3  \n",
       "2025                     34.0                       31.0   87.2  \n",
       "4024                     29.0                       32.0   87.3  "
      ]
     },
     "execution_count": 6,
     "metadata": {},
     "output_type": "execute_result"
    }
   ],
   "source": [
    "#Q3: Generate a pandas DataFrame containing all the statistics of \"University of Wisconsin–Madison\".\n",
    "\n",
    "uw_madison = rankings[rankings['Institution'] == 'University of Wisconsin–Madison']\n",
    "uw_madison"
   ]
  },
  {
   "cell_type": "code",
   "execution_count": 7,
   "id": "2fcd5c7e",
   "metadata": {},
   "outputs": [
    {
     "data": {
      "text/plain": [
       "19"
      ]
     },
     "execution_count": 7,
     "metadata": {},
     "output_type": "execute_result"
    }
   ],
   "source": [
    "#Q4: What is the \"National Rank\" of the \"University of Wisconsin–Madison\" in the year 2021-2022?\n",
    "\n",
    "uw_madison[uw_madison['Year'] == '2021-2022'].iloc[0]['National Rank']"
   ]
  },
  {
   "cell_type": "code",
   "execution_count": 8,
   "id": "cf4a828f",
   "metadata": {},
   "outputs": [
    {
     "data": {
      "text/plain": [
       "87.26666666666667"
      ]
     },
     "execution_count": 8,
     "metadata": {},
     "output_type": "execute_result"
    }
   ],
   "source": [
    "#Q5: What is the average score of the \"University of Wisconsin–Madison\"?\n",
    "\n",
    "uw_madison['Score'].mean()"
   ]
  },
  {
   "cell_type": "code",
   "execution_count": 9,
   "id": "5c426ec4",
   "metadata": {},
   "outputs": [
    {
     "data": {
      "text/html": [
       "<div>\n",
       "<style scoped>\n",
       "    .dataframe tbody tr th:only-of-type {\n",
       "        vertical-align: middle;\n",
       "    }\n",
       "\n",
       "    .dataframe tbody tr th {\n",
       "        vertical-align: top;\n",
       "    }\n",
       "\n",
       "    .dataframe thead th {\n",
       "        text-align: right;\n",
       "    }\n",
       "</style>\n",
       "<table border=\"1\" class=\"dataframe\">\n",
       "  <thead>\n",
       "    <tr style=\"text-align: right;\">\n",
       "      <th></th>\n",
       "      <th>World Rank</th>\n",
       "      <th>Year</th>\n",
       "      <th>Institution</th>\n",
       "      <th>Country</th>\n",
       "      <th>National Rank</th>\n",
       "      <th>Quality of Education Rank</th>\n",
       "      <th>Alumni Employment Rank</th>\n",
       "      <th>Quality of Faculty Rank</th>\n",
       "      <th>Research Performance Rank</th>\n",
       "      <th>Score</th>\n",
       "    </tr>\n",
       "  </thead>\n",
       "  <tbody>\n",
       "    <tr>\n",
       "      <th>2094</th>\n",
       "      <td>95</td>\n",
       "      <td>2020-2021</td>\n",
       "      <td>National University of Singapore</td>\n",
       "      <td>Singapore</td>\n",
       "      <td>1</td>\n",
       "      <td>330.0</td>\n",
       "      <td>165.0</td>\n",
       "      <td>NaN</td>\n",
       "      <td>41.0</td>\n",
       "      <td>82.0</td>\n",
       "    </tr>\n",
       "    <tr>\n",
       "      <th>2139</th>\n",
       "      <td>140</td>\n",
       "      <td>2020-2021</td>\n",
       "      <td>Nanyang Technological University</td>\n",
       "      <td>Singapore</td>\n",
       "      <td>2</td>\n",
       "      <td>NaN</td>\n",
       "      <td>996.0</td>\n",
       "      <td>NaN</td>\n",
       "      <td>75.0</td>\n",
       "      <td>80.3</td>\n",
       "    </tr>\n",
       "    <tr>\n",
       "      <th>3150</th>\n",
       "      <td>1151</td>\n",
       "      <td>2020-2021</td>\n",
       "      <td>Singapore University of Technology and Design</td>\n",
       "      <td>Singapore</td>\n",
       "      <td>3</td>\n",
       "      <td>NaN</td>\n",
       "      <td>NaN</td>\n",
       "      <td>NaN</td>\n",
       "      <td>1092.0</td>\n",
       "      <td>69.4</td>\n",
       "    </tr>\n",
       "    <tr>\n",
       "      <th>3286</th>\n",
       "      <td>1287</td>\n",
       "      <td>2020-2021</td>\n",
       "      <td>Singapore Management University</td>\n",
       "      <td>Singapore</td>\n",
       "      <td>4</td>\n",
       "      <td>NaN</td>\n",
       "      <td>NaN</td>\n",
       "      <td>NaN</td>\n",
       "      <td>1225.0</td>\n",
       "      <td>68.7</td>\n",
       "    </tr>\n",
       "  </tbody>\n",
       "</table>\n",
       "</div>"
      ],
      "text/plain": [
       "      World Rank       Year                                    Institution  \\\n",
       "2094          95  2020-2021               National University of Singapore   \n",
       "2139         140  2020-2021               Nanyang Technological University   \n",
       "3150        1151  2020-2021  Singapore University of Technology and Design   \n",
       "3286        1287  2020-2021                Singapore Management University   \n",
       "\n",
       "        Country  National Rank  Quality of Education Rank  \\\n",
       "2094  Singapore              1                      330.0   \n",
       "2139  Singapore              2                        NaN   \n",
       "3150  Singapore              3                        NaN   \n",
       "3286  Singapore              4                        NaN   \n",
       "\n",
       "      Alumni Employment Rank  Quality of Faculty Rank  \\\n",
       "2094                   165.0                      NaN   \n",
       "2139                   996.0                      NaN   \n",
       "3150                     NaN                      NaN   \n",
       "3286                     NaN                      NaN   \n",
       "\n",
       "      Research Performance Rank  Score  \n",
       "2094                       41.0   82.0  \n",
       "2139                       75.0   80.3  \n",
       "3150                     1092.0   69.4  \n",
       "3286                     1225.0   68.7  "
      ]
     },
     "execution_count": 9,
     "metadata": {},
     "output_type": "execute_result"
    }
   ],
   "source": [
    "#Q6: Generate a pandas dataframe containing all the statistics of universities from Singapore in the year 2020-2021.\n",
    "\n",
    "rankings[ (rankings['Country'] == 'Singapore') & (rankings['Year'] == '2020-2021')  ]"
   ]
  },
  {
   "cell_type": "code",
   "execution_count": 10,
   "id": "7e1cb8c0",
   "metadata": {},
   "outputs": [
    {
     "data": {
      "text/plain": [
       "'Ludwig Maximilian University of Munich'"
      ]
     },
     "execution_count": 10,
     "metadata": {},
     "output_type": "execute_result"
    }
   ],
   "source": [
    "#Q7: In the year 2019-2020, what was the highest-ranked institution in Germany?\n",
    "\n",
    "german_best = rankings[ (rankings['Year'] == '2019-2020') & (rankings['Country'] == 'Germany') & (rankings['National Rank'] == rankings['National Rank'].min() )]\n",
    "german_best.iloc[0]['Institution']"
   ]
  },
  {
   "cell_type": "code",
   "execution_count": 11,
   "id": "3578fbe0",
   "metadata": {},
   "outputs": [
    {
     "data": {
      "text/plain": [
       "['Harvard University',\n",
       " 'Massachusetts Institute of Technology',\n",
       " 'Stanford University',\n",
       " 'Columbia University',\n",
       " 'Princeton University',\n",
       " 'University of California, Berkeley',\n",
       " 'University of Pennsylvania',\n",
       " 'University of Chicago',\n",
       " 'California Institute of Technology',\n",
       " 'Yale University',\n",
       " 'Cornell University',\n",
       " 'Northwestern University',\n",
       " 'University of California, Los Angeles',\n",
       " 'University of Michigan, Ann Arbor',\n",
       " 'Johns Hopkins University',\n",
       " 'University of Washington - Seattle',\n",
       " 'University of Illinois at Urbana–Champaign',\n",
       " 'Duke University',\n",
       " 'University of Wisconsin–Madison',\n",
       " 'New York University',\n",
       " 'University of California San Diego',\n",
       " 'University of Texas at Austin',\n",
       " 'University of California, San Francisco',\n",
       " 'University of North Carolina at Chapel Hill',\n",
       " 'University of Minnesota - Twin Cities',\n",
       " 'University of Texas Southwestern Medical Center',\n",
       " 'Washington University in St. Louis',\n",
       " 'University of Southern California',\n",
       " 'Brown University',\n",
       " 'Vanderbilt University',\n",
       " 'Pennsylvania State University',\n",
       " 'Rutgers University–New Brunswick',\n",
       " 'Dartmouth College',\n",
       " 'University of California, Davis']"
      ]
     },
     "execution_count": 11,
     "metadata": {},
     "output_type": "execute_result"
    }
   ],
   "source": [
    "#Q8: In the year 2019-2020, list all the institutions in the USA ranked better than the highest-ranked institution in Germany.\n",
    "\n",
    "german_best_world_rank = german_best.iloc[0]['World Rank']\n",
    "usa_better = rankings[(rankings['Country'] == 'USA') & (rankings['Year'] == '2019-2020') & (rankings['World Rank'] < german_best_world_rank)]\n",
    "list(usa_better['Institution'])"
   ]
  },
  {
   "cell_type": "code",
   "execution_count": 12,
   "id": "093ba482",
   "metadata": {},
   "outputs": [
    {
     "data": {
      "text/plain": [
       "'Fudan University'"
      ]
     },
     "execution_count": 12,
     "metadata": {},
     "output_type": "execute_result"
    }
   ],
   "source": [
    "#Q9: What is the highest-ranked institution based on “Quality of Education Rank” in China for the year 2021-2022?\n",
    "\n",
    "china_institutions = rankings[(rankings['Country'] == 'China') & (rankings['Year'] == '2021-2022') ]\n",
    "china_institutions[china_institutions['Quality of Education Rank'] == china_institutions['Quality of Education Rank'].min()].iloc[0]['Institution']"
   ]
  },
  {
   "cell_type": "code",
   "execution_count": 13,
   "id": "85775083",
   "metadata": {},
   "outputs": [
    {
     "data": {
      "text/plain": [
       "['Indian Institute of Science',\n",
       " 'Tata Institute of Fundamental Research',\n",
       " 'Indian Institute of Technology Bombay',\n",
       " 'University of Delhi',\n",
       " 'Indian Institute of Technology Madras']"
      ]
     },
     "execution_count": 13,
     "metadata": {},
     "output_type": "execute_result"
    }
   ],
   "source": [
    "#Q10: What are the top five highest-ranked institutions based on \"Research Performance Rank\" in India for the year 2020-2021?\n",
    "\n",
    "india_institutions = rankings[(rankings['Country'] == 'India') & (rankings['Year'] == '2020-2021') ]\n",
    "sorted_india = india_institutions.sort_values(by = 'Research Performance Rank')\n",
    "list(sorted_india['Institution'])[:5]"
   ]
  },
  {
   "cell_type": "code",
   "execution_count": 14,
   "id": "52563287",
   "metadata": {},
   "outputs": [
    {
     "data": {
      "text/plain": [
       "1856"
      ]
     },
     "execution_count": 14,
     "metadata": {},
     "output_type": "execute_result"
    }
   ],
   "source": [
    "#Q11: How many institutions have rankings for all three years?\n",
    "\n",
    "year_2019_ranking_df = rankings[rankings[\"Year\"] == \"2019-2020\"]\n",
    "year_2020_ranking_df = rankings[rankings[\"Year\"] == \"2020-2021\"]\n",
    "year_2021_ranking_df = rankings[rankings[\"Year\"] == \"2021-2022\"]\n",
    "\n",
    "set_2019 = set(year_2019_ranking_df['Institution'])\n",
    "set_2020 = set(year_2020_ranking_df['Institution'])\n",
    "set_2021 = set(year_2021_ranking_df['Institution'])\n",
    "# list containing names of institutions which have ranking for all three years\n",
    "institution_2019_2020_2021 = list(set_2019 & set_2020 & set_2021)\n",
    "\n",
    "len(institution_2019_2020_2021)"
   ]
  },
  {
   "cell_type": "code",
   "execution_count": 15,
   "id": "44ba90e2",
   "metadata": {},
   "outputs": [],
   "source": [
    "institutions = []\n",
    "\n",
    "for institution in institution_2019_2020_2021: # use your output list from Q11 here\n",
    "    year_2019_ranking =  rankings[(rankings['Year'] == '2019-2020') & (rankings['Institution'] == institution)].iloc[0]['World Rank']\n",
    "    year_2020_ranking =  rankings[(rankings['Year'] == '2020-2021') & (rankings['Institution'] == institution)].iloc[0]['World Rank']\n",
    "    year_2021_ranking =  rankings[(rankings['Year'] == '2021-2022') & (rankings['Institution'] == institution)].iloc[0]['World Rank']\n",
    "\n",
    "    # now let's create a dictionary representation of the institution\n",
    "    # each key corresponds to the column of the DataFrame we want to build\n",
    "    institution_info = {}\n",
    "    institution_info['Institution'] = institution\n",
    "    institution_info['2019_ranking'] = year_2019_ranking\n",
    "    institution_info['2020_ranking'] = year_2020_ranking\n",
    "    institution_info['2021_ranking'] = year_2021_ranking\n",
    "\n",
    "    institutions.append(institution_info)\n",
    "\n",
    "institutions_df = pd.DataFrame(institutions)"
   ]
  },
  {
   "cell_type": "code",
   "execution_count": 16,
   "id": "af1ee710",
   "metadata": {},
   "outputs": [
    {
     "data": {
      "text/plain": [
       "['USI - University of Italian Speaking Switzerland',\n",
       " 'École nationale supérieure de chimie de Montpellier',\n",
       " 'Antioch College',\n",
       " 'Tôn Đức Thắng University',\n",
       " 'Academy of Scientific & Innovative Research',\n",
       " 'SOAS University of London',\n",
       " 'Federal University of Mato Grosso do Sul',\n",
       " 'International Institute for Management Development',\n",
       " 'Haverford College']"
      ]
     },
     "execution_count": 16,
     "metadata": {},
     "output_type": "execute_result"
    }
   ],
   "source": [
    "#Q12: Between the years 2019-2020 and 2021-2022, list the institutions which have seen an improvement in their \"World Rank\" by more than 500 ranks.\n",
    "\n",
    "institutions_df[\"difference\"] =  institutions_df[\"2019_ranking\"] - institutions_df[\"2021_ranking\"]\n",
    "improvement_df = institutions_df[institutions_df['difference'] > 500]\n",
    "list(improvement_df['Institution'])"
   ]
  },
  {
   "cell_type": "code",
   "execution_count": 17,
   "id": "a52fbfaa",
   "metadata": {},
   "outputs": [
    {
     "data": {
      "text/plain": [
       "'USI - University of Italian Speaking Switzerland'"
      ]
     },
     "execution_count": 17,
     "metadata": {},
     "output_type": "execute_result"
    }
   ],
   "source": [
    "#Q13: Between the years 2019-2020 and 2021-2022, which institution had the largest change in its \"World Rank\"?\n",
    "\n",
    "institutions_df['absolute difference'] = abs(institutions_df[\"2019_ranking\"] - institutions_df[\"2021_ranking\"])\n",
    "max_difference = institutions_df[institutions_df['absolute difference'] == institutions_df['absolute difference'].max()]\n",
    "max_difference.iloc[0]['Institution']\n"
   ]
  },
  {
   "cell_type": "code",
   "execution_count": 18,
   "id": "55235d51",
   "metadata": {},
   "outputs": [
    {
     "data": {
      "text/plain": [
       "451"
      ]
     },
     "execution_count": 18,
     "metadata": {},
     "output_type": "execute_result"
    }
   ],
   "source": [
    "#Q14: For all the three years, find the number of institutions that improved their World Rank each year.\n",
    "institutions_df[\"change 2019-2020\"] =  institutions_df[\"2019_ranking\"] - institutions_df[\"2020_ranking\"]\n",
    "institutions_df[\"change 2020-2021\"] =  institutions_df[\"2020_ranking\"] - institutions_df[\"2021_ranking\"]\n",
    "len(institutions_df[(institutions_df[\"change 2019-2020\"] > 0) & (institutions_df[\"change 2020-2021\"] > 0)])\n",
    "\n"
   ]
  },
  {
   "cell_type": "code",
   "execution_count": 19,
   "id": "9fd610b5",
   "metadata": {},
   "outputs": [
    {
     "data": {
      "text/plain": [
       "[\"École nationale d'administration\",\n",
       " 'Institut Polytechnique de Paris',\n",
       " 'International Institute for Management Development',\n",
       " 'HEC Paris',\n",
       " 'University of Tokyo',\n",
       " 'INSEAD',\n",
       " 'China Europe International Business School']"
      ]
     },
     "execution_count": 19,
     "metadata": {},
     "output_type": "execute_result"
    }
   ],
   "source": [
    "#Q15: In the year 2020-2021, list the institutions which are within the top 10 in the world based on \"Alumni Employment Rank\" but do not feature in the top 10 of the world ranking.\n",
    "\n",
    "sorted_alumni = year_2020_ranking_df.sort_values(by = 'Alumni Employment Rank')\n",
    "sorted_world_rank = year_2020_ranking_df.sort_values(by = 'World Rank')\n",
    "list(set(sorted_alumni['Institution'][:10]) - set(sorted_world_rank['Institution'][:10]))\n"
   ]
  },
  {
   "cell_type": "code",
   "execution_count": 20,
   "id": "1deb7a66",
   "metadata": {},
   "outputs": [
    {
     "data": {
      "text/plain": [
       "['École normale supérieure',\n",
       " 'Paris Diderot University',\n",
       " 'École Polytechnique',\n",
       " 'Tufts University',\n",
       " 'University of Groningen',\n",
       " 'University of California San Diego',\n",
       " 'University of Utah',\n",
       " 'University of Texas MD Anderson Cancer Center',\n",
       " 'Aarhus University',\n",
       " 'Paris-Sud University',\n",
       " 'Emory University',\n",
       " 'École Polytechnique Fédérale de Lausanne']"
      ]
     },
     "execution_count": 20,
     "metadata": {},
     "output_type": "execute_result"
    }
   ],
   "source": [
    "#Q16: List the universities which ranked in the top 100 of world rankings in the year 2019-2020 but failed to do so in the rankings of year 2021-2022.\n",
    "\n",
    "sorted_2019 = year_2019_ranking_df.sort_values(by = 'World Rank')\n",
    "sorted_2021 = year_2021_ranking_df.sort_values(by = 'World Rank')\n",
    "list(set(sorted_2019['Institution'][:100]) - set(sorted_2021['Institution'][:100]))                            "
   ]
  },
  {
   "cell_type": "code",
   "execution_count": 21,
   "id": "aca44411",
   "metadata": {},
   "outputs": [
    {
     "data": {
      "text/plain": [
       "['USA', 'United Kingdom']"
      ]
     },
     "execution_count": 21,
     "metadata": {},
     "output_type": "execute_result"
    }
   ],
   "source": [
    "#Q17: List the countries which have at least 10 institutions featuring in the top 100 of world rankings in the year 2020-2021.\n",
    "top_100 = year_2020_ranking_df.sort_values(by = 'World Rank')[:100]\n",
    "count_country = top_100['Country'].value_counts()\n",
    "list(count_country[count_country >= 10].index)\n"
   ]
  },
  {
   "cell_type": "code",
   "execution_count": 22,
   "id": "71458435",
   "metadata": {},
   "outputs": [
    {
     "data": {
      "text/plain": [
       "['World Rank',\n",
       " 'Institution',\n",
       " 'Country',\n",
       " 'National Rank',\n",
       " 'Quality of Education Rank',\n",
       " 'Alumni Employment Rank',\n",
       " 'Quality of Faculty Rank',\n",
       " 'Research Performance Rank',\n",
       " 'Score']"
      ]
     },
     "execution_count": 22,
     "metadata": {},
     "output_type": "execute_result"
    }
   ],
   "source": [
    "#Q18: Use BeautifulSoup to parse 2019-2020.html, and find the table containing the ranking data. What are the column names of this table?\n",
    "\n",
    "f = open('2019-2020.html', encoding=\"utf-8\")\n",
    "html_string = f.read()\n",
    "f.close()\n",
    "bs_obj = BeautifulSoup(html_string, \"html.parser\") \n",
    "table_element = bs_obj.find('table')\n",
    "header = [th.text for th in table_element.find_all('th')]\n",
    "header"
   ]
  },
  {
   "cell_type": "code",
   "execution_count": 23,
   "id": "bc6f493d",
   "metadata": {},
   "outputs": [],
   "source": [
    "def parse_html(filename):\n",
    "    f = open(filename, encoding=\"utf-8\")\n",
    "    html_string = f.read()\n",
    "    f.close()\n",
    "    bs_obj = BeautifulSoup(html_string, \"html.parser\") \n",
    "    table_element = bs_obj.find('table')\n",
    "    header = [th.text for th in table_element.find_all('th')]\n",
    "    year = filename[:9]\n",
    "    row_elements = bs_obj.find_all(\"tr\") [1:]\n",
    "    rankings_list = []\n",
    "    world_rank_idx = header.index('World Rank')\n",
    "    institution_idx = header.index('Institution')\n",
    "    country_idx = header.index('Country')\n",
    "    national_rank_idx = header.index('National Rank')\n",
    "    quality_ed_idx = header.index('Quality of Education Rank')\n",
    "    alumni_idx = header.index('Alumni Employment Rank')\n",
    "    quality_fac_idx = header.index('Quality of Faculty Rank')\n",
    "    research_idx = header.index('Research Performance Rank')\n",
    "    score_idx = header.index('Score')\n",
    "    for row in row_elements:\n",
    "        institution_dict = {}\n",
    "        td_elements = row.find_all(\"td\")\n",
    "        world_rank = td_elements[world_rank_idx].text\n",
    "        quality_of_education_rank = td_elements[quality_ed_idx].text\n",
    "        quality_of_faculty_rank = td_elements[quality_fac_idx].text\n",
    "        institution = td_elements[institution_idx].text\n",
    "        country = td_elements[country_idx].text\n",
    "        national_rank = td_elements[national_rank_idx].text\n",
    "        score = float(td_elements[score_idx].text)\n",
    "        alumni_employment_rank = td_elements[alumni_idx].text\n",
    "        research_performance_rank = td_elements[research_idx].text\n",
    "        if quality_of_education_rank == '-':\n",
    "            quality_of_education_rank = None\n",
    "        else:\n",
    "            quality_of_education_rank = int(quality_of_education_rank)\n",
    "        if quality_of_faculty_rank == '-':\n",
    "            quality_of_faculty_rank = None\n",
    "        else:\n",
    "            quality_of_faculty_rank = int(quality_of_faculty_rank)\n",
    "        if alumni_employment_rank == '-':\n",
    "            alumni_employment_rank = None\n",
    "        else:\n",
    "            alumni_employment_rank = int(alumni_employment_rank)\n",
    "        if research_performance_rank == '-':\n",
    "            research_performance_rank = None\n",
    "        else:\n",
    "            research_performance_rank = int(research_performance_rank)\n",
    "        institution_dict['Year'] = year\n",
    "        institution_dict['World Rank'] = int(world_rank)\n",
    "        institution_dict['Institution'] = institution\n",
    "        institution_dict['Country'] = country\n",
    "        institution_dict['National Rank'] = int(national_rank)\n",
    "        institution_dict['Quality of Education Rank'] = quality_of_education_rank\n",
    "        institution_dict['Alumni Employment Rank'] = alumni_employment_rank\n",
    "        institution_dict['Quality of Faculty Rank'] = quality_of_faculty_rank\n",
    "        institution_dict['Research Performance Rank'] = research_performance_rank\n",
    "        institution_dict['Score'] = score\n",
    "        rankings_list.append(institution_dict)\n",
    "    return rankings_list"
   ]
  },
  {
   "cell_type": "code",
   "execution_count": 24,
   "id": "640c65fe",
   "metadata": {},
   "outputs": [
    {
     "data": {
      "text/plain": [
       "[{'Year': '2019-2020',\n",
       "  'World Rank': 1,\n",
       "  'Institution': 'Harvard University',\n",
       "  'Country': 'USA',\n",
       "  'National Rank': 1,\n",
       "  'Quality of Education Rank': 2,\n",
       "  'Alumni Employment Rank': 1,\n",
       "  'Quality of Faculty Rank': 1,\n",
       "  'Research Performance Rank': 1,\n",
       "  'Score': 100.0},\n",
       " {'Year': '2019-2020',\n",
       "  'World Rank': 2,\n",
       "  'Institution': 'Massachusetts Institute of Technology',\n",
       "  'Country': 'USA',\n",
       "  'National Rank': 2,\n",
       "  'Quality of Education Rank': 1,\n",
       "  'Alumni Employment Rank': 10,\n",
       "  'Quality of Faculty Rank': 2,\n",
       "  'Research Performance Rank': 5,\n",
       "  'Score': 96.7},\n",
       " {'Year': '2019-2020',\n",
       "  'World Rank': 3,\n",
       "  'Institution': 'Stanford University',\n",
       "  'Country': 'USA',\n",
       "  'National Rank': 3,\n",
       "  'Quality of Education Rank': 9,\n",
       "  'Alumni Employment Rank': 3,\n",
       "  'Quality of Faculty Rank': 3,\n",
       "  'Research Performance Rank': 2,\n",
       "  'Score': 95.2},\n",
       " {'Year': '2019-2020',\n",
       "  'World Rank': 4,\n",
       "  'Institution': 'University of Cambridge',\n",
       "  'Country': 'United Kingdom',\n",
       "  'National Rank': 1,\n",
       "  'Quality of Education Rank': 4,\n",
       "  'Alumni Employment Rank': 19,\n",
       "  'Quality of Faculty Rank': 5,\n",
       "  'Research Performance Rank': 11,\n",
       "  'Score': 94.1},\n",
       " {'Year': '2019-2020',\n",
       "  'World Rank': 5,\n",
       "  'Institution': 'University of Oxford',\n",
       "  'Country': 'United Kingdom',\n",
       "  'National Rank': 2,\n",
       "  'Quality of Education Rank': 10,\n",
       "  'Alumni Employment Rank': 24,\n",
       "  'Quality of Faculty Rank': 10,\n",
       "  'Research Performance Rank': 4,\n",
       "  'Score': 93.3}]"
      ]
     },
     "execution_count": 24,
     "metadata": {},
     "output_type": "execute_result"
    }
   ],
   "source": [
    "#Q19: Parse the contents of the table you found in 2019-2020.html and represent it as a list of dicts. What are the first 5 dictionaries in the list?\n",
    "\n",
    "parse_html('2019-2020.html')[:5]"
   ]
  },
  {
   "cell_type": "code",
   "execution_count": 25,
   "id": "a8179c87",
   "metadata": {},
   "outputs": [],
   "source": [
    "def write_json(path, data):\n",
    "    with open(path, 'w', encoding=\"utf-8\") as f: \n",
    "        json.dump(data, f, indent=2)"
   ]
  },
  {
   "cell_type": "code",
   "execution_count": 26,
   "id": "7f085bf6",
   "metadata": {},
   "outputs": [],
   "source": [
    "#Q20: Parse the contents of 2019-2020.html, 2020-2021.html, and 2021-2022.html and combine them to create a file titled my_rankings.json.\n",
    "\n",
    "data_json = []\n",
    "data_json.extend(parse_html('2019-2020.html'))\n",
    "data_json.extend(parse_html('2020-2021.html'))\n",
    "data_json.extend(parse_html('2021-2022.html'))\n",
    "write_json('my_rankings.json', data_json)\n"
   ]
  },
  {
   "cell_type": "code",
   "execution_count": null,
   "id": "54c96f86",
   "metadata": {},
   "outputs": [],
   "source": []
  },
  {
   "cell_type": "code",
   "execution_count": null,
   "id": "d5fc66b8",
   "metadata": {},
   "outputs": [],
   "source": []
  },
  {
   "cell_type": "code",
   "execution_count": null,
   "id": "0e9ac5be",
   "metadata": {},
   "outputs": [],
   "source": []
  },
  {
   "cell_type": "code",
   "execution_count": null,
   "id": "14a6a8bf",
   "metadata": {},
   "outputs": [],
   "source": []
  },
  {
   "cell_type": "code",
   "execution_count": null,
   "id": "aa6e411d",
   "metadata": {},
   "outputs": [],
   "source": []
  },
  {
   "cell_type": "code",
   "execution_count": null,
   "id": "3f488fad",
   "metadata": {},
   "outputs": [],
   "source": []
  },
  {
   "cell_type": "code",
   "execution_count": null,
   "id": "e1eb913c",
   "metadata": {},
   "outputs": [],
   "source": []
  },
  {
   "cell_type": "code",
   "execution_count": null,
   "id": "873f5f24",
   "metadata": {},
   "outputs": [],
   "source": []
  },
  {
   "cell_type": "code",
   "execution_count": null,
   "id": "2ada1df1",
   "metadata": {},
   "outputs": [],
   "source": []
  },
  {
   "cell_type": "code",
   "execution_count": null,
   "id": "7748f916",
   "metadata": {},
   "outputs": [],
   "source": []
  },
  {
   "cell_type": "code",
   "execution_count": null,
   "id": "d2600874",
   "metadata": {},
   "outputs": [],
   "source": []
  },
  {
   "cell_type": "code",
   "execution_count": null,
   "id": "85aa3958",
   "metadata": {},
   "outputs": [],
   "source": []
  },
  {
   "cell_type": "code",
   "execution_count": null,
   "id": "9d37ff3d",
   "metadata": {},
   "outputs": [],
   "source": []
  },
  {
   "cell_type": "code",
   "execution_count": null,
   "id": "ef316bcd",
   "metadata": {},
   "outputs": [],
   "source": []
  }
 ],
 "metadata": {
  "kernelspec": {
   "display_name": "Python 3 (ipykernel)",
   "language": "python",
   "name": "python3"
  },
  "language_info": {
   "codemirror_mode": {
    "name": "ipython",
    "version": 3
   },
   "file_extension": ".py",
   "mimetype": "text/x-python",
   "name": "python",
   "nbconvert_exporter": "python",
   "pygments_lexer": "ipython3",
   "version": "3.9.7"
  }
 },
 "nbformat": 4,
 "nbformat_minor": 5
}
